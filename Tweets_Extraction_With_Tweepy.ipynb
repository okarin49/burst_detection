{
 "cells": [
  {
   "cell_type": "code",
   "execution_count": 1,
   "metadata": {},
   "outputs": [],
   "source": [
    "import tweepy # access the twitter API\n",
    "import time # manipulate time values\n",
    "import pandas as pd # data analysis and manipulation\n",
    "from tqdm import tqdm, notebook # allow to output a smart progress bars or meters"
   ]
  },
  {
   "cell_type": "code",
   "execution_count": 2,
   "metadata": {},
   "outputs": [],
   "source": [
    "consumer_key = \"7SZ0A7V2Dd77NWeLSshqoauNM\"\n",
    "consumer_secret = \"DLKteB78caT6FssgIgeUQsCbaHzFUpquZa8iMfWqH2EXxRUZ9B\"\n",
    "callback_uri = \"oob\""
   ]
  },
  {
   "cell_type": "code",
   "execution_count": 3,
   "metadata": {},
   "outputs": [
    {
     "name": "stdout",
     "output_type": "stream",
     "text": [
      "https://api.twitter.com/oauth/authorize?oauth_token=-ljL9AAAAAABXjIGAAABfr7tkT0\n"
     ]
    }
   ],
   "source": [
    "# get auth anf click on the link\n",
    "auth = tweepy.OAuthHandler(consumer_key, consumer_secret, callback_uri)\n",
    "redirect_url = auth.get_authorization_url()\n",
    "print(redirect_url)"
   ]
  },
  {
   "cell_type": "code",
   "execution_count": 4,
   "metadata": {},
   "outputs": [],
   "source": [
    "api = tweepy.API(auth, wait_on_rate_limit = True)"
   ]
  },
  {
   "cell_type": "code",
   "execution_count": 5,
   "metadata": {},
   "outputs": [
    {
     "name": "stdout",
     "output_type": "stream",
     "text": [
      "What is the pin value? 6198188\n"
     ]
    }
   ],
   "source": [
    "# paste the pin value by answering the question\n",
    "user_pin_input = input(\"What is the pin value? \")"
   ]
  },
  {
   "cell_type": "code",
   "execution_count": 8,
   "metadata": {},
   "outputs": [
    {
     "data": {
      "text/plain": [
       "'6198188'"
      ]
     },
     "execution_count": 8,
     "metadata": {},
     "output_type": "execute_result"
    }
   ],
   "source": [
    "user_pin_input"
   ]
  },
  {
   "cell_type": "code",
   "execution_count": 9,
   "metadata": {},
   "outputs": [
    {
     "data": {
      "text/plain": [
       "('1371248311324323842-7aQb6lutPq86JrjCsINIrnPip3idin',\n",
       " 'yDAnyJ7T7xfxPIux3vLj4BswNiQK6gZ4xOGXoVi0hyxcK')"
      ]
     },
     "execution_count": 9,
     "metadata": {},
     "output_type": "execute_result"
    }
   ],
   "source": [
    "# get authorizations\n",
    "auth.get_access_token(user_pin_input)"
   ]
  },
  {
   "cell_type": "code",
   "execution_count": 10,
   "metadata": {},
   "outputs": [],
   "source": [
    "# collect tweets with the hashtag #covid\n",
    "search_words = \"#covid -filter:retweets\"\n",
    "date_since = \"2022-01-31\"\n",
    "date_until = \"2022-02-01\"\n",
    "\n",
    "tweets = tweepy.Cursor(api.search, q = search_words, lang = \"en\", since = date_since, until = date_until).items()"
   ]
  },
  {
   "cell_type": "code",
   "execution_count": 11,
   "metadata": {},
   "outputs": [
    {
     "name": "stderr",
     "output_type": "stream",
     "text": [
      "5509it [30:18,  3.03it/s]\n"
     ]
    }
   ],
   "source": [
    "tweets_copy = []\n",
    "for tweet in tqdm(tweets):\n",
    "    tweets_copy.append(tweet)\n"
   ]
  },
  {
   "cell_type": "code",
   "execution_count": 12,
   "metadata": {
    "scrolled": false
   },
   "outputs": [
    {
     "name": "stdout",
     "output_type": "stream",
     "text": [
      "new tweets retrieved: 5509\n"
     ]
    }
   ],
   "source": [
    "print(f\"new tweets retrieved: {len(tweets_copy)}\")"
   ]
  },
  {
   "cell_type": "code",
   "execution_count": 13,
   "metadata": {},
   "outputs": [
    {
     "name": "stderr",
     "output_type": "stream",
     "text": [
      "100%|████████████████████████████████████████████████████████████████████████████| 5509/5509 [1:30:51<00:00,  1.01it/s]\n"
     ]
    }
   ],
   "source": [
    "tweets_df = pd.DataFrame()\n",
    "for tweet in tqdm(tweets_copy):\n",
    "    hashtags = []\n",
    "    try:\n",
    "        for hashtag in tweet.entities[\"hashtags\"]:\n",
    "            hashtags.append(hashtag[\"text\"])\n",
    "        text = api.get_status(id=tweet.id, tweet_mode='extended').full_text\n",
    "    except:\n",
    "        pass\n",
    "    tweets_df = tweets_df.append(pd.DataFrame({'user_name': tweet.user.name, \n",
    "                                               'user_location': tweet.user.location,\\\n",
    "                                               'user_description': tweet.user.description,\n",
    "                                               'user_created': tweet.user.created_at,\n",
    "                                               'user_followers': tweet.user.followers_count,\n",
    "                                               'user_friends': tweet.user.friends_count,\n",
    "                                               'user_favourites': tweet.user.favourites_count,\n",
    "                                               'user_verified': tweet.user.verified,\n",
    "                                               'date': tweet.created_at,\n",
    "                                               'text': text, \n",
    "                                               'hashtags': [hashtags if hashtags else None],\n",
    "                                               'source': tweet.source,\n",
    "                                               'is_retweet': tweet.retweeted}, index=[0]))"
   ]
  },
  {
   "cell_type": "code",
   "execution_count": 14,
   "metadata": {
    "scrolled": false
   },
   "outputs": [
    {
     "data": {
      "text/html": [
       "<div>\n",
       "<style scoped>\n",
       "    .dataframe tbody tr th:only-of-type {\n",
       "        vertical-align: middle;\n",
       "    }\n",
       "\n",
       "    .dataframe tbody tr th {\n",
       "        vertical-align: top;\n",
       "    }\n",
       "\n",
       "    .dataframe thead th {\n",
       "        text-align: right;\n",
       "    }\n",
       "</style>\n",
       "<table border=\"1\" class=\"dataframe\">\n",
       "  <thead>\n",
       "    <tr style=\"text-align: right;\">\n",
       "      <th></th>\n",
       "      <th>user_name</th>\n",
       "      <th>user_location</th>\n",
       "      <th>user_description</th>\n",
       "      <th>user_created</th>\n",
       "      <th>user_followers</th>\n",
       "      <th>user_friends</th>\n",
       "      <th>user_favourites</th>\n",
       "      <th>user_verified</th>\n",
       "      <th>date</th>\n",
       "      <th>text</th>\n",
       "      <th>hashtags</th>\n",
       "      <th>source</th>\n",
       "      <th>is_retweet</th>\n",
       "    </tr>\n",
       "  </thead>\n",
       "  <tbody>\n",
       "    <tr>\n",
       "      <th>0</th>\n",
       "      <td>Ϯஐ รครรคfгครร Ϯஐ</td>\n",
       "      <td>But it is our duty to live.</td>\n",
       "      <td>I have brain cells lovelier than my eyes. I ♥️...</td>\n",
       "      <td>2009-02-21 16:40:08</td>\n",
       "      <td>2334</td>\n",
       "      <td>1670</td>\n",
       "      <td>63453</td>\n",
       "      <td>False</td>\n",
       "      <td>2022-01-31 23:59:59</td>\n",
       "      <td>Hey, @washingtonpost \\n\\n👀 Just look at all th...</td>\n",
       "      <td>[covid]</td>\n",
       "      <td>Twitter for iPhone</td>\n",
       "      <td>False</td>\n",
       "    </tr>\n",
       "    <tr>\n",
       "      <th>0</th>\n",
       "      <td>APCA</td>\n",
       "      <td>Phoenix, AZ</td>\n",
       "      <td>Official Twitter account of APCA - a community...</td>\n",
       "      <td>2010-01-22 18:57:07</td>\n",
       "      <td>549</td>\n",
       "      <td>678</td>\n",
       "      <td>645</td>\n",
       "      <td>False</td>\n",
       "      <td>2022-01-31 23:59:11</td>\n",
       "      <td>#COVID boosters are available for everyone 12+...</td>\n",
       "      <td>[COVID]</td>\n",
       "      <td>SocialPilot.co</td>\n",
       "      <td>False</td>\n",
       "    </tr>\n",
       "    <tr>\n",
       "      <th>0</th>\n",
       "      <td>Nathan Joyner</td>\n",
       "      <td>Los Angeles, CA</td>\n",
       "      <td>Global Venture Captial and Private Equity/Busi...</td>\n",
       "      <td>2015-05-18 20:52:29</td>\n",
       "      <td>48</td>\n",
       "      <td>11</td>\n",
       "      <td>798</td>\n",
       "      <td>False</td>\n",
       "      <td>2022-01-31 23:59:04</td>\n",
       "      <td>7 Day Covid Deaths per 1K Population by County...</td>\n",
       "      <td>None</td>\n",
       "      <td>smcapplication</td>\n",
       "      <td>False</td>\n",
       "    </tr>\n",
       "    <tr>\n",
       "      <th>0</th>\n",
       "      <td>Nathan Joyner</td>\n",
       "      <td>Los Angeles, CA</td>\n",
       "      <td>Global Venture Captial and Private Equity/Busi...</td>\n",
       "      <td>2015-05-18 20:52:29</td>\n",
       "      <td>48</td>\n",
       "      <td>11</td>\n",
       "      <td>798</td>\n",
       "      <td>False</td>\n",
       "      <td>2022-01-31 23:57:32</td>\n",
       "      <td>7 Day Covid Deaths per 1K Population by County...</td>\n",
       "      <td>None</td>\n",
       "      <td>smcapplication</td>\n",
       "      <td>False</td>\n",
       "    </tr>\n",
       "    <tr>\n",
       "      <th>0</th>\n",
       "      <td>World Alert</td>\n",
       "      <td>Karlsruhe, Germany</td>\n",
       "      <td>Alerting the world, with the current happening...</td>\n",
       "      <td>2018-03-20 14:08:51</td>\n",
       "      <td>324</td>\n",
       "      <td>34</td>\n",
       "      <td>9</td>\n",
       "      <td>False</td>\n",
       "      <td>2022-01-31 23:57:12</td>\n",
       "      <td>There are currently 51candidates\\nOut of which...</td>\n",
       "      <td>[coronavirus, COVID, Covid, vaccine]</td>\n",
       "      <td>corona-tracker-app</td>\n",
       "      <td>False</td>\n",
       "    </tr>\n",
       "  </tbody>\n",
       "</table>\n",
       "</div>"
      ],
      "text/plain": [
       "          user_name                user_location  \\\n",
       "0  Ϯஐ รครรคfгครร Ϯஐ  But it is our duty to live.   \n",
       "0              APCA                  Phoenix, AZ   \n",
       "0     Nathan Joyner              Los Angeles, CA   \n",
       "0     Nathan Joyner              Los Angeles, CA   \n",
       "0       World Alert           Karlsruhe, Germany   \n",
       "\n",
       "                                    user_description        user_created  \\\n",
       "0  I have brain cells lovelier than my eyes. I ♥️... 2009-02-21 16:40:08   \n",
       "0  Official Twitter account of APCA - a community... 2010-01-22 18:57:07   \n",
       "0  Global Venture Captial and Private Equity/Busi... 2015-05-18 20:52:29   \n",
       "0  Global Venture Captial and Private Equity/Busi... 2015-05-18 20:52:29   \n",
       "0  Alerting the world, with the current happening... 2018-03-20 14:08:51   \n",
       "\n",
       "   user_followers  user_friends  user_favourites  user_verified  \\\n",
       "0            2334          1670            63453          False   \n",
       "0             549           678              645          False   \n",
       "0              48            11              798          False   \n",
       "0              48            11              798          False   \n",
       "0             324            34                9          False   \n",
       "\n",
       "                 date                                               text  \\\n",
       "0 2022-01-31 23:59:59  Hey, @washingtonpost \\n\\n👀 Just look at all th...   \n",
       "0 2022-01-31 23:59:11  #COVID boosters are available for everyone 12+...   \n",
       "0 2022-01-31 23:59:04  7 Day Covid Deaths per 1K Population by County...   \n",
       "0 2022-01-31 23:57:32  7 Day Covid Deaths per 1K Population by County...   \n",
       "0 2022-01-31 23:57:12  There are currently 51candidates\\nOut of which...   \n",
       "\n",
       "                               hashtags              source  is_retweet  \n",
       "0                               [covid]  Twitter for iPhone       False  \n",
       "0                               [COVID]      SocialPilot.co       False  \n",
       "0                                  None      smcapplication       False  \n",
       "0                                  None      smcapplication       False  \n",
       "0  [coronavirus, COVID, Covid, vaccine]  corona-tracker-app       False  "
      ]
     },
     "execution_count": 14,
     "metadata": {},
     "output_type": "execute_result"
    }
   ],
   "source": [
    "tweets_df.head()"
   ]
  },
  {
   "cell_type": "code",
   "execution_count": 15,
   "metadata": {},
   "outputs": [],
   "source": [
    "tweets_df.to_csv(\"covid_tweets_31.csv\", index = False)"
   ]
  },
  {
   "cell_type": "code",
   "execution_count": null,
   "metadata": {},
   "outputs": [],
   "source": []
  }
 ],
 "metadata": {
  "kernelspec": {
   "display_name": "Python 3",
   "language": "python",
   "name": "python3"
  },
  "language_info": {
   "codemirror_mode": {
    "name": "ipython",
    "version": 3
   },
   "file_extension": ".py",
   "mimetype": "text/x-python",
   "name": "python",
   "nbconvert_exporter": "python",
   "pygments_lexer": "ipython3",
   "version": "3.8.5"
  }
 },
 "nbformat": 4,
 "nbformat_minor": 4
}
